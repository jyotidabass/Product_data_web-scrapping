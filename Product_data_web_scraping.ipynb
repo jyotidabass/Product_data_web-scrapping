{
  "nbformat": 4,
  "nbformat_minor": 0,
  "metadata": {
    "colab": {
      "name": "Product data web scraping.ipynb",
      "provenance": [],
      "authorship_tag": "ABX9TyNkSK9cth1Y47FrXGQZsdDq",
      "include_colab_link": true
    },
    "kernelspec": {
      "name": "python3",
      "display_name": "Python 3"
    },
    "language_info": {
      "name": "python"
    }
  },
  "cells": [
    {
      "cell_type": "markdown",
      "metadata": {
        "id": "view-in-github",
        "colab_type": "text"
      },
      "source": [
        "<a href=\"https://colab.research.google.com/github/jyotidabass/Product_data_web-scrapping/blob/main/Product_data_web_scraping.ipynb\" target=\"_parent\"><img src=\"https://colab.research.google.com/assets/colab-badge.svg\" alt=\"Open In Colab\"/></a>"
      ]
    },
    {
      "cell_type": "code",
      "execution_count": 1,
      "metadata": {
        "id": "QAgEMEXwgsaP"
      },
      "outputs": [],
      "source": [
        "import requests\n",
        "from bs4 import BeautifulSoup\n",
        "import csv\n",
        "# Make a request\n",
        "page = requests.get(\n",
        "    \"https://codedamn-classrooms.github.io/webscraper-python-codedamn-classroom-website/\")\n",
        "soup = BeautifulSoup(page.content, 'html.parser')\n",
        "\n",
        "# Create top_items as empty list\n",
        "all_products = []\n",
        "\n",
        "# Extract and store in top_items according to instructions on the left\n",
        "products = soup.select('div.thumbnail')\n",
        "for product in products:\n",
        "    name = product.select('h4 > a')[0].text.strip()\n",
        "    description = product.select('p.description')[0].text.strip()\n",
        "    price = product.select('h4.price')[0].text.strip()\n",
        "    reviews = product.select('div.ratings')[0].text.strip()\n",
        "    image = product.select('img')[0].get('src')\n",
        "\n",
        "    all_products.append({\n",
        "        \"name\": name,\n",
        "        \"description\": description,\n",
        "        \"price\": price,\n",
        "        \"reviews\": reviews,\n",
        "        \"image\": image\n",
        "    })\n",
        "\n",
        "\n",
        "keys = all_products[0].keys()\n",
        "\n",
        "with open('products.csv', 'w', newline='') as output_file:\n",
        "    dict_writer = csv.DictWriter(output_file, keys)\n",
        "    dict_writer.writeheader()\n",
        "    dict_writer.writerows(all_products)"
      ]
    }
  ]
}